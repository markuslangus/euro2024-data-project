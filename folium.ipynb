{
 "cells": [
  {
   "cell_type": "code",
   "execution_count": 1,
   "id": "ba57ebad-39f0-469e-966b-4f30b199d66e",
   "metadata": {},
   "outputs": [],
   "source": [
    "import pandas as pd"
   ]
  },
  {
   "cell_type": "code",
   "execution_count": 2,
   "id": "eb1612af-3087-4de0-ba7e-2b51fa546890",
   "metadata": {},
   "outputs": [],
   "source": [
    "# Setting this option will print all collumns of a dataframe\n",
    "pd.set_option('display.max_columns', None)\n",
    "\n",
    "# Euro 2024 Tournament Data\n",
    "df = pd.read_csv(\"2024.csv\")"
   ]
  },
  {
   "cell_type": "code",
   "execution_count": 3,
   "id": "216dd638-9f7b-44e8-956c-882a1700e951",
   "metadata": {},
   "outputs": [],
   "source": [
    "## new features: add base camps"
   ]
  },
  {
   "cell_type": "code",
   "execution_count": 4,
   "id": "6da51903-c90b-4742-b6ff-d82262255976",
   "metadata": {},
   "outputs": [],
   "source": [
    "# convert data types to datetime objects\n",
    "df['date'] = pd.to_datetime(df['date'])\n",
    "df['date_time'] = pd.to_datetime(df['date_time'])"
   ]
  },
  {
   "cell_type": "code",
   "execution_count": 5,
   "id": "56695486-24f2-415d-8686-3495babcff39",
   "metadata": {},
   "outputs": [],
   "source": [
    "df.sort_values('date_time', ascending=True, inplace=True)\n",
    "df.reset_index(drop=True, inplace=True)"
   ]
  },
  {
   "cell_type": "code",
   "execution_count": 6,
   "id": "efce5686-bc25-4f45-96df-db5798cf8f2b",
   "metadata": {},
   "outputs": [],
   "source": [
    "df_stadium = df[[\"home_team\", \"away_team\", \"stadium_city\", \"stadium_latitude\", \"stadium_longitude\", \"date_time\"]]"
   ]
  },
  {
   "cell_type": "code",
   "execution_count": 7,
   "id": "2458a5ab-c420-411f-b48d-80f41dc2ad8a",
   "metadata": {},
   "outputs": [
    {
     "data": {
      "text/html": [
       "<div>\n",
       "<style scoped>\n",
       "    .dataframe tbody tr th:only-of-type {\n",
       "        vertical-align: middle;\n",
       "    }\n",
       "\n",
       "    .dataframe tbody tr th {\n",
       "        vertical-align: top;\n",
       "    }\n",
       "\n",
       "    .dataframe thead th {\n",
       "        text-align: right;\n",
       "    }\n",
       "</style>\n",
       "<table border=\"1\" class=\"dataframe\">\n",
       "  <thead>\n",
       "    <tr style=\"text-align: right;\">\n",
       "      <th></th>\n",
       "      <th>home_team</th>\n",
       "      <th>away_team</th>\n",
       "      <th>stadium_city</th>\n",
       "      <th>stadium_latitude</th>\n",
       "      <th>stadium_longitude</th>\n",
       "      <th>date_time</th>\n",
       "    </tr>\n",
       "  </thead>\n",
       "  <tbody>\n",
       "    <tr>\n",
       "      <th>0</th>\n",
       "      <td>Germany</td>\n",
       "      <td>Scotland</td>\n",
       "      <td>Munich</td>\n",
       "      <td>48.218794</td>\n",
       "      <td>11.624731</td>\n",
       "      <td>2024-06-14 19:00:00+00:00</td>\n",
       "    </tr>\n",
       "    <tr>\n",
       "      <th>1</th>\n",
       "      <td>Hungary</td>\n",
       "      <td>Switzerland</td>\n",
       "      <td>Cologne</td>\n",
       "      <td>50.933506</td>\n",
       "      <td>6.874994</td>\n",
       "      <td>2024-06-15 13:00:00+00:00</td>\n",
       "    </tr>\n",
       "    <tr>\n",
       "      <th>2</th>\n",
       "      <td>Spain</td>\n",
       "      <td>Croatia</td>\n",
       "      <td>Berlin</td>\n",
       "      <td>52.514714</td>\n",
       "      <td>13.239397</td>\n",
       "      <td>2024-06-15 16:00:00+00:00</td>\n",
       "    </tr>\n",
       "    <tr>\n",
       "      <th>3</th>\n",
       "      <td>Italy</td>\n",
       "      <td>Albania</td>\n",
       "      <td>Dortmund</td>\n",
       "      <td>51.492589</td>\n",
       "      <td>7.451772</td>\n",
       "      <td>2024-06-15 19:00:00+00:00</td>\n",
       "    </tr>\n",
       "    <tr>\n",
       "      <th>4</th>\n",
       "      <td>Poland</td>\n",
       "      <td>Netherlands</td>\n",
       "      <td>Hamburg</td>\n",
       "      <td>53.587156</td>\n",
       "      <td>9.898553</td>\n",
       "      <td>2024-06-16 13:00:00+00:00</td>\n",
       "    </tr>\n",
       "  </tbody>\n",
       "</table>\n",
       "</div>"
      ],
      "text/plain": [
       "  home_team    away_team stadium_city  stadium_latitude  stadium_longitude  \\\n",
       "0   Germany     Scotland       Munich         48.218794          11.624731   \n",
       "1   Hungary  Switzerland      Cologne         50.933506           6.874994   \n",
       "2     Spain      Croatia       Berlin         52.514714          13.239397   \n",
       "3     Italy      Albania     Dortmund         51.492589           7.451772   \n",
       "4    Poland  Netherlands      Hamburg         53.587156           9.898553   \n",
       "\n",
       "                  date_time  \n",
       "0 2024-06-14 19:00:00+00:00  \n",
       "1 2024-06-15 13:00:00+00:00  \n",
       "2 2024-06-15 16:00:00+00:00  \n",
       "3 2024-06-15 19:00:00+00:00  \n",
       "4 2024-06-16 13:00:00+00:00  "
      ]
     },
     "execution_count": 7,
     "metadata": {},
     "output_type": "execute_result"
    }
   ],
   "source": [
    "df_stadium.head()"
   ]
  },
  {
   "cell_type": "code",
   "execution_count": null,
   "id": "efad7053-e71d-40c1-b948-03d1da535940",
   "metadata": {},
   "outputs": [],
   "source": []
  },
  {
   "cell_type": "code",
   "execution_count": null,
   "id": "d9b07344-fd5b-431e-ba45-371c68db1773",
   "metadata": {},
   "outputs": [],
   "source": []
  }
 ],
 "metadata": {
  "kernelspec": {
   "display_name": "Python 3 (ipykernel)",
   "language": "python",
   "name": "python3"
  },
  "language_info": {
   "codemirror_mode": {
    "name": "ipython",
    "version": 3
   },
   "file_extension": ".py",
   "mimetype": "text/x-python",
   "name": "python",
   "nbconvert_exporter": "python",
   "pygments_lexer": "ipython3",
   "version": "3.12.4"
  }
 },
 "nbformat": 4,
 "nbformat_minor": 5
}
